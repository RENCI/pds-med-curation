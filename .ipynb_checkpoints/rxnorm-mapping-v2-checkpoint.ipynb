{
 "cells": [
  {
   "cell_type": "code",
   "execution_count": 1,
   "metadata": {},
   "outputs": [],
   "source": [
    "# Import dependencies\n",
    "\n",
    "import requests\n",
    "import json\n",
    "import pandas as pd\n",
    "from pprint import pprint"
   ]
  },
  {
   "cell_type": "code",
   "execution_count": 16,
   "metadata": {},
   "outputs": [],
   "source": [
    "# Open RxCUIcodelist and read the text file\n",
    "\n",
    "file = open(\"rxcui_codes/rxcui_codes3.txt\").read().splitlines()"
   ]
  },
  {
   "cell_type": "code",
   "execution_count": 17,
   "metadata": {},
   "outputs": [
    {
     "data": {
      "text/plain": [
       "list"
      ]
     },
     "execution_count": 17,
     "metadata": {},
     "output_type": "execute_result"
    }
   ],
   "source": [
    "type(file)"
   ]
  },
  {
   "cell_type": "code",
   "execution_count": 18,
   "metadata": {},
   "outputs": [
    {
     "data": {
      "text/plain": [
       "30000"
      ]
     },
     "execution_count": 18,
     "metadata": {},
     "output_type": "execute_result"
    }
   ],
   "source": [
    "len(file)"
   ]
  },
  {
   "cell_type": "code",
   "execution_count": 19,
   "metadata": {},
   "outputs": [],
   "source": [
    "# Base query URL\n",
    "\n",
    "base_url = \"https://rxnav.nlm.nih.gov/REST/rxcui/\""
   ]
  },
  {
   "cell_type": "code",
   "execution_count": null,
   "metadata": {},
   "outputs": [],
   "source": [
    "ilist = []\n",
    "nilist = []\n",
    "for code in file:\n",
    "    # Complete query URL\n",
    "    query_url = base_url+code+\"/related.json?tty=IN\"\n",
    "    response = requests.get(query_url)\n",
    "    data = response.json()\n",
    "    try:\n",
    "        rel_props = data['relatedGroup']['conceptGroup'][0]['conceptProperties']\n",
    "        umlscuis = [ e['umlscui'] for e in rel_props ] \n",
    "        ilist.append({code:umlscuis})\n",
    "    except:\n",
    "        nilist.append({code:\"empty\"})"
   ]
  },
  {
   "cell_type": "code",
   "execution_count": 14,
   "metadata": {},
   "outputs": [],
   "source": [
    "# Output RxNorm map as json file\n",
    "\n",
    "with open('rxmorm_map_v2/rxnorm_map_v2_3.json', 'w') as json_file:\n",
    "    json.dump(ilist, json_file)"
   ]
  },
  {
   "cell_type": "code",
   "execution_count": 15,
   "metadata": {},
   "outputs": [],
   "source": [
    "# Output list of rxcui codes with no ingredient as json file\n",
    "\n",
    "with open('Med_NoIngredient/rxcuis_noingredient_3.json', 'w') as json_nfile:\n",
    "    json.dump(nilist, json_nfile)"
   ]
  },
  {
   "cell_type": "code",
   "execution_count": null,
   "metadata": {},
   "outputs": [],
   "source": []
  }
 ],
 "metadata": {
  "kernelspec": {
   "display_name": "Python 3",
   "language": "python",
   "name": "python3"
  },
  "language_info": {
   "codemirror_mode": {
    "name": "ipython",
    "version": 3
   },
   "file_extension": ".py",
   "mimetype": "text/x-python",
   "name": "python",
   "nbconvert_exporter": "python",
   "pygments_lexer": "ipython3",
   "version": "3.7.3"
  }
 },
 "nbformat": 4,
 "nbformat_minor": 2
}
